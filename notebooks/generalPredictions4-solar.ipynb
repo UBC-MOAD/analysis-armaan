{
 "cells": [
  {
   "cell_type": "code",
   "execution_count": 1,
   "id": "e8894284-c72a-49fa-ab53-bebf63de177e",
   "metadata": {},
   "outputs": [],
   "source": [
    "import matplotlib.pyplot as plt\n",
    "import pandas as pd\n",
    "import numpy as np\n",
    "import xarray as xr\n",
    "import scipy\n",
    "import os\n",
    "from sklearn.decomposition import PCA\n",
    "from sklearn.linear_model import LinearRegression\n",
    "from sklearn.linear_model import QuantileRegressor\n",
    "from sklearn.metrics import mean_absolute_error\n",
    "from sklearn.metrics import mean_squared_error\n",
    "import glob"
   ]
  },
  {
   "cell_type": "markdown",
   "id": "59850ca8-f776-49f9-967f-e00a2dac0c42",
   "metadata": {},
   "source": [
    "A notebook for fine-tuning the model specifically for solar. This notebook reconstructs 2007 data after being trained on 2007 data. This notebook is mostly a diagnostic, looking at the results of the model on solar."
   ]
  },
  {
   "cell_type": "markdown",
   "id": "1ce0425e-6706-4b10-8096-6ff7bdf860af",
   "metadata": {},
   "source": [
    "## Importing Training Data"
   ]
  },
  {
   "cell_type": "code",
   "execution_count": 2,
   "id": "3e5b6a57-2692-4c83-a8f3-dc6d923f68bf",
   "metadata": {},
   "outputs": [
    {
     "data": {
      "text/plain": [
       "['atmpres',\n",
       " 'percentcloud',\n",
       " 'PRATE_surface',\n",
       " 'nav_lat',\n",
       " 'nav_lon',\n",
       " 'precip',\n",
       " 'qair',\n",
       " 'RH_2maboveground',\n",
       " 'solar',\n",
       " 'tair',\n",
       " 'therm_rad',\n",
       " 'u_wind',\n",
       " 'v_wind']"
      ]
     },
     "execution_count": 2,
     "metadata": {},
     "output_type": "execute_result"
    }
   ],
   "source": [
    "p1 = '/results/forcing/atmospheric/GEM2.5/gemlam/gemlam_y2007m01d03.nc'\n",
    "d1 = xr.open_dataset(p1)\n",
    "list(d1.keys())"
   ]
  },
  {
   "cell_type": "code",
   "execution_count": 3,
   "id": "d0a0b352-3035-4b2d-9ac3-a3c24a930fb4",
   "metadata": {},
   "outputs": [
    {
     "data": {
      "text/plain": [
       "['/home/arandhawa/Miniforge3-Linux-x86_64.sh',\n",
       " '/home/arandhawa/canrcm_huss_2007.nc',\n",
       " '/home/arandhawa/canrcm_huss_2008.nc',\n",
       " '/home/arandhawa/canrcm_pr_2007.nc',\n",
       " '/home/arandhawa/canrcm_pr_2008.nc',\n",
       " '/home/arandhawa/canrcm_psl_2007.nc',\n",
       " '/home/arandhawa/canrcm_psl_2008.nc',\n",
       " '/home/arandhawa/canrcm_rlds_2007.nc',\n",
       " '/home/arandhawa/canrcm_rlds_2008.nc',\n",
       " '/home/arandhawa/canrcm_rsds_2007.nc',\n",
       " '/home/arandhawa/canrcm_rsds_2008.nc',\n",
       " '/home/arandhawa/canrcm_tas_2007.nc',\n",
       " '/home/arandhawa/canrcm_tas_2008.nc',\n",
       " '/home/arandhawa/canrcm_uas_2006-2009_daily.nc',\n",
       " '/home/arandhawa/canrcm_uas_2007.nc',\n",
       " '/home/arandhawa/canrcm_uas_2008.nc',\n",
       " '/home/arandhawa/canrcm_vas_2007.nc',\n",
       " '/home/arandhawa/canrcm_vas_2008.nc',\n",
       " '/home/arandhawa/conda_envs',\n",
       " '/home/arandhawa/miniforge3']"
      ]
     },
     "execution_count": 3,
     "metadata": {},
     "output_type": "execute_result"
    }
   ],
   "source": [
    "myFiles = glob.glob('/home/arandhawa/*') # returns list\n",
    "myFiles.sort()\n",
    "myFiles"
   ]
  },
  {
   "cell_type": "markdown",
   "id": "9cb8e2b5-7ff7-4a5f-ae49-18032bc8b106",
   "metadata": {},
   "source": [
    "| Description | HRDPS       | CANRCM      | \n",
    "| ----------- | ----------- | ----------- |\n",
    "| Near-Surface Air Temperature | tair | tas |\n",
    "| Precipitation | precip | pr |\n",
    "| Sea Level Pressure | atmpres | psl |\n",
    "| Near Surface Specific Humidity | qair | huss |\n",
    "| Shortwave radiation | solar | rsds |\n",
    "| Longwave radiation | therm_rad | rlds |"
   ]
  },
  {
   "cell_type": "code",
   "execution_count": 4,
   "id": "9c3d57d2-f340-469e-a29c-39709fa836fa",
   "metadata": {},
   "outputs": [],
   "source": [
    "variables = [['tair', 'tas', 'Near-Surface Air Temperature'], \n",
    "             ['precip', 'pr', 'Precipitation'], \n",
    "             ['atmpres', 'psl', 'Sea Level Pressure'], \n",
    "             ['qair', 'huss', 'Near Surface Specific Humidity'], \n",
    "             ['solar', 'rsds', 'Shortwave radiation'], \n",
    "             ['therm_rad', 'rlds', 'Longwave radiation'],\n",
    "             ['u_wind', 'uas', 'u-winds'], \n",
    "             ['v_wind', 'vas', 'vas']]"
   ]
  },
  {
   "cell_type": "code",
   "execution_count": 5,
   "id": "8550c9e9-257e-4b3c-af5b-aab4a6eceda5",
   "metadata": {},
   "outputs": [],
   "source": [
    "var = variables[4]\n",
    "name = var[2]   ##for graph titles - name"
   ]
  },
  {
   "cell_type": "code",
   "execution_count": 6,
   "id": "8c0d080f-57b0-4389-a1ad-8fa9e661ec3e",
   "metadata": {},
   "outputs": [],
   "source": [
    "data_name_hr = var[0]    ##variable of HRDPS data to work with"
   ]
  },
  {
   "cell_type": "code",
   "execution_count": 7,
   "id": "4d552232-6ade-4572-a198-725eb3bc8df9",
   "metadata": {},
   "outputs": [],
   "source": [
    "data_name_can = var[1] ##variable of CANRCM data to work with\n",
    "p_can07 = '/home/arandhawa/canrcm_' + var[1] + '_2007.nc'  "
   ]
  },
  {
   "cell_type": "code",
   "execution_count": 8,
   "id": "341418e4-4ca1-435f-b143-b50937a15b48",
   "metadata": {},
   "outputs": [
    {
     "name": "stdout",
     "output_type": "stream",
     "text": [
      "363\n",
      "(2904, 266, 256)\n"
     ]
    }
   ],
   "source": [
    "##2007 HRDPS import\n",
    "\n",
    "files = glob.glob('/results/forcing/atmospheric/GEM2.5/gemlam/gemlam_y2007m??d??.nc')\n",
    "##list of data files, febrary 2007 - each file covers one day, with hourly data\n",
    "##the grid is 266 by 256 points, with resolution 2.5km\n",
    "##relevant data in this file is u_wind and v_wind data\n",
    "files.sort()\n",
    "print(len(files))\n",
    "\n",
    "## 3-hour averaged matrix\n",
    "\n",
    "hr07 = np.empty( (8*len(files), 266, 256)) \n",
    "\n",
    "for i in range(len(files)):\n",
    "    dayX = xr.open_dataset(files[i])\n",
    "    ##adding 1 day of 3-hour averages to new data array\n",
    "    hr07[8*i:8*i + 8,:,:] = np.array( dayX[ data_name_hr ] ).reshape(8, 3, 266, 256).mean(axis = 1) \n",
    "\n",
    "del dayX\n",
    "\n",
    "print(hr07.shape)"
   ]
  },
  {
   "cell_type": "code",
   "execution_count": 9,
   "id": "c7aa2831-2204-4794-a13b-04b797de4698",
   "metadata": {},
   "outputs": [
    {
     "name": "stdout",
     "output_type": "stream",
     "text": [
      "(2904, 25, 25)\n"
     ]
    }
   ],
   "source": [
    "##CANRCM 2007 import\n",
    "d1 = xr.open_dataset(p_can07)\n",
    "can07 = d1[data_name_can][16:,140:165,60:85] ##the first two days are removed to be consistent with 2007 HRDPS\n",
    "\n",
    "print(can07.shape)"
   ]
  },
  {
   "cell_type": "code",
   "execution_count": 10,
   "id": "98633120-92f6-4623-a892-5f6706dfeffe",
   "metadata": {},
   "outputs": [
    {
     "name": "stdout",
     "output_type": "stream",
     "text": [
      "<xarray.DataArray 'time' ()>\n",
      "array(cftime.DatetimeNoLeap(2007, 1, 1, 6, 0, 0, 0, has_year_zero=True),\n",
      "      dtype=object)\n",
      "Coordinates:\n",
      "    time     object 2007-01-01 06:00:00\n",
      "Attributes:\n",
      "    long_name:      time\n",
      "    standard_name:  time\n",
      "    axis:           T\n",
      "    bounds:         time_bnds\n"
     ]
    }
   ],
   "source": [
    "print(d1.coords['time'][1])"
   ]
  },
  {
   "cell_type": "markdown",
   "id": "f68effed-0b61-4db6-b225-131be5e40d49",
   "metadata": {
    "tags": []
   },
   "source": [
    "## PCA Functions"
   ]
  },
  {
   "cell_type": "code",
   "execution_count": 11,
   "id": "25387353-6d2a-4ecf-8096-efa94a7ab12d",
   "metadata": {},
   "outputs": [],
   "source": [
    "##transforms and concatenates two data sets\n",
    "def transform2(data1, data2):\n",
    "    A_mat = transform(data1)\n",
    "    B_mat = transform(data2)\n",
    "    return np.concatenate((A_mat, B_mat), axis=0) "
   ]
  },
  {
   "cell_type": "code",
   "execution_count": 12,
   "id": "5606d7cd-2448-4f77-834a-a0e3a5d29007",
   "metadata": {},
   "outputs": [],
   "source": [
    "##inverse function of transform2 - splits data matrix and returns two data sets\n",
    "def reverse2(matrix, orig_shape):\n",
    "    split4 = int( matrix.shape[0]/2 )\n",
    "    u_data = reverse(matrix[:split4,:], orig_shape) ##reconstructing u_winds from n PCs\n",
    "    v_data = reverse(matrix[split4:,:], orig_shape) ##reconstructing v_winds from n PCs\n",
    "    return (u_data, v_data)"
   ]
  },
  {
   "cell_type": "code",
   "execution_count": 13,
   "id": "4bb35be4-5557-4052-99d8-6400c34aad45",
   "metadata": {},
   "outputs": [],
   "source": [
    "##performs PCA analysis using sklearn.pca\n",
    "def doPCA(comp, matrix):\n",
    "    pca = PCA(n_components = comp) ##adjust the number of principle conponents to be calculated\n",
    "    PCs = pca.fit_transform(matrix)\n",
    "    eigvecs = pca.components_\n",
    "    mean = pca.mean_\n",
    "    return (PCs, eigvecs, mean)"
   ]
  },
  {
   "cell_type": "code",
   "execution_count": 14,
   "id": "4e8b428a-0e53-4d14-aa2e-44e2a3aaf8ae",
   "metadata": {},
   "outputs": [],
   "source": [
    "##data must be converted into a 2D matrix for pca analysis\n",
    "##transform takes a 3D data array (time, a, b) -> (a*b, time)\n",
    "##(the data grid is flattened a column using numpy.flatten)\n",
    "\n",
    "def transform(xarr):\n",
    "    arr = np.array(xarr) ##converting to numpy array\n",
    "    arr = arr.reshape(arr.shape[0], arr.shape[1]*arr.shape[2]) ##reshaping from size (a, b, c) to (a, b*c)\n",
    "    arr = arr.transpose()\n",
    "    return arr\n",
    "\n",
    "def reverse(mat, orig_shape):\n",
    "    arr = np.copy(mat)\n",
    "    arr = arr.transpose()\n",
    "    arr = arr.reshape(-1, orig_shape[1], orig_shape[2]) ##reshaping back to original array shape\n",
    "    return arr"
   ]
  },
  {
   "cell_type": "code",
   "execution_count": 15,
   "id": "fc291b64-f45a-4477-ab98-2f9831741345",
   "metadata": {},
   "outputs": [],
   "source": [
    "##graphing percentage of original data represented by the first n principle conponents\n",
    "def graph_variance(matrix, n):\n",
    "    pcaG = PCA(n_components = n) ##Number of principle conponents to show\n",
    "    PCsG = pcaG.fit_transform(matrix)\n",
    "    plt.plot(np.cumsum(pcaG.explained_variance_ratio_))\n",
    "    plt.xlabel('number of components')\n",
    "    plt.ylabel('cumulative explained variance');\n",
    "    plt.show()\n",
    "    del pcaG\n",
    "    del PCsG"
   ]
  },
  {
   "cell_type": "code",
   "execution_count": 16,
   "id": "6a87b0fa-4cb3-487a-85e6-036472649991",
   "metadata": {},
   "outputs": [],
   "source": [
    "##can be used to visualize principle conponents for u/v winds\n",
    "def graph_nPCs(PCs, eigvecs, n, orig_shape):\n",
    "    fig, ax = plt.subplots(n, 3, figsize=(10, 3*n))\n",
    "    \n",
    "    ax[0, 0].set_title(\"u-conponent\")\n",
    "    ax[0, 1].set_title(\"v-component\")\n",
    "    ax[0, 2].set_title(\"time-loadings\")\n",
    "    \n",
    "    for i in range(n):\n",
    "        mode_u, mode_v = get_mode(PCs, i, orig_shape)\n",
    "        colors = ax[i, 0].pcolormesh(mode_u, cmap = 'bwr')\n",
    "        fig.colorbar(colors, ax = ax[i,0])\n",
    "        colors = ax[i, 1].pcolormesh(mode_v, cmap = 'bwr')\n",
    "        fig.colorbar(colors, ax = ax[i,1])\n",
    "        ax[i, 2].plot(eigvecs[i])\n",
    "\n",
    "    plt.tight_layout()\n",
    "    plt.show()\n",
    "\n",
    "##converts PCs (column vectors) to 2d conpoents for u and v wind\n",
    "def get_mode(PCs, n, orig_shape): \n",
    "    split = int(PCs.shape[0]/2)\n",
    "    mode_u = PCs[:split, n].reshape(orig_shape[1], orig_shape[2])\n",
    "    mode_v = PCs[split:, n].reshape(orig_shape[1], orig_shape[2])\n",
    "    return (mode_u, mode_v)\n",
    "\n"
   ]
  },
  {
   "cell_type": "markdown",
   "id": "f974512b-0f55-4a7c-a2a3-69131fd0f31f",
   "metadata": {
    "tags": []
   },
   "source": [
    "## PCAs on Training Data"
   ]
  },
  {
   "cell_type": "code",
   "execution_count": 17,
   "id": "662c6148-63ee-4bb9-983f-069a6ef66261",
   "metadata": {
    "tags": []
   },
   "outputs": [],
   "source": [
    "##PCA on CANRCM 2007\n",
    "can07_mat = transform(can07)\n",
    "can07_PCs, can07_eigs, can07_mean = doPCA(100, can07_mat)\n",
    "\n",
    "##PCA on HRDPS 2007\n",
    "hr07_mat = transform(hr07)\n",
    "hr07_PCs, hr07_eigs, hr07_mean = doPCA(100, hr07_mat)"
   ]
  },
  {
   "cell_type": "code",
   "execution_count": 18,
   "id": "8e04c63b-5657-4cb3-a8ee-15064882b7cf",
   "metadata": {},
   "outputs": [],
   "source": [
    "## combining the eigenvectors and mean together in one array for analysis\n",
    "## the mean is the average value at each timestamp (average row) - behaves as a zeroth eigenvector\n",
    "can07_me = np.concatenate((can07_mean.reshape(1, -1), can07_eigs))\n",
    "hr07_me = np.concatenate((hr07_mean.reshape(1, -1), hr07_eigs))"
   ]
  },
  {
   "cell_type": "markdown",
   "id": "881edad9-a1a7-4ad7-901f-c69e2c616837",
   "metadata": {},
   "source": [
    "## Multiple Linear Regression Functions"
   ]
  },
  {
   "cell_type": "code",
   "execution_count": 19,
   "id": "6e6ef9f5-5c9e-4dcc-8bf0-2c72d898b5f1",
   "metadata": {
    "tags": []
   },
   "outputs": [],
   "source": [
    "##functions that use multiple linear regression to fit eigenvectors\n",
    "##takes CANRCM eigenvectors (x1, x2, x3, x4...) and HRDPS eigenvectors (y1, y2, y3...)\n",
    "##For each y from 0:result_size, approximates yn = a0 + a1*x1 + a2*x2 + a3*x3 ... using num_vec x's\n",
    "##getCoefs returns (coeficients, intercept)\n",
    "##fit_modes returns each approximation and the R^2 value of each fit as (results, scores)\n",
    "\n",
    "def getCoefs(vectors, num_vec, data, num_modes, type = 'LS'):  \n",
    "    \n",
    "    X = vectors[0:num_vec,:].T\n",
    "    coefs = np.zeros((num_modes, X.shape[1]))\n",
    "    intercept = np.zeros(num_modes)\n",
    "    \n",
    "    if type == 'LS':\n",
    "        for i in range(num_modes):\n",
    "            y = data[i,:]\n",
    "            reg = LinearRegression().fit(X, y)\n",
    "            coefs[i] = reg.coef_[0:num_vec]\n",
    "            intercept[i] =  reg.intercept_\n",
    "    elif type == 'MAE':\n",
    "        for i in range(num_modes):\n",
    "            y = data[i,:]\n",
    "            reg = QuantileRegressor(quantile = 0.5, alpha = 0, solver = 'highs').fit(X, y)\n",
    "            coefs[i] = reg.coef_[0:num_vec]\n",
    "            intercept[i] =  reg.intercept_\n",
    "    \n",
    "    return (coefs, intercept)\n",
    "\n",
    "\n",
    "def fit_modes(vectors, num_vec, data, result_size, type = 'LS'):  \n",
    "    \n",
    "    X = vectors[0:num_vec,:].T\n",
    "    result = np.zeros((result_size, X.shape[0]))\n",
    "    scores = np.zeros(result_size)\n",
    "    \n",
    "    if type == 'LS':\n",
    "        for i in range(result_size):\n",
    "            y = data[i,:]\n",
    "            reg = LinearRegression().fit(X, y)\n",
    "            result[i] = reg.predict(X)\n",
    "            scores[i] = reg.score(X, y)\n",
    "            \n",
    "    elif type == 'MAE':\n",
    "        for i in range(result_size):\n",
    "            y = data[i,:]\n",
    "            reg = QuantileRegressor(quantile = 0.5, alpha = 0, solver = 'highs').fit(X, y)\n",
    "            result[i] = reg.predict(X)\n",
    "            scores[i] = reg.score(X, y)\n",
    "    \n",
    "    return (result, scores)\n"
   ]
  },
  {
   "cell_type": "code",
   "execution_count": 20,
   "id": "30f21fd0-20f1-4988-b53f-55782eb532ac",
   "metadata": {},
   "outputs": [],
   "source": [
    "##returns the ratio of the average energy between two sets of eigenvectors (element-wise)\n",
    "##\"energy\" is defined as value^2 - two sets of eigenvectors with the same \"energy\" would\n",
    "##recreate data with approximately the same kinetic energy (v^2)\n",
    "\n",
    "def getEnergyCoefs(eigs, old_eigs):\n",
    "    coefs = np.sqrt( (old_eigs[0:eigs.shape[0]]**2).mean(axis = 1)/(eigs**2).mean(axis = 1))\n",
    "    return coefs"
   ]
  },
  {
   "cell_type": "markdown",
   "id": "b7654899-16ad-431f-b8df-7340a48a65fe",
   "metadata": {
    "tags": []
   },
   "source": [
    "## Importing data for downscaling"
   ]
  },
  {
   "cell_type": "code",
   "execution_count": 21,
   "id": "bbbf8cac-c032-46b6-b0e1-112803643fc2",
   "metadata": {},
   "outputs": [],
   "source": [
    "##supposed to be 2008 canrcm data\n",
    "##d1 = xr.open_dataset(p_can07)"
   ]
  },
  {
   "cell_type": "code",
   "execution_count": 22,
   "id": "47a6ffb5-07aa-42cc-8f68-60cc312fe16b",
   "metadata": {},
   "outputs": [],
   "source": [
    "##duplicating feb 28 twice to account for leap year (feb 29th is missing in CANRCM)\n",
    "##can08 = np.concatenate((d1[data_name_can][:472,140:165,60:85], d1[data_name_can][464:472,140:165,60:85], d1[data_name_can][472:,140:165,60:85] ))"
   ]
  },
  {
   "cell_type": "code",
   "execution_count": 23,
   "id": "e405c70b-d15f-4375-a1d9-adb4350cd953",
   "metadata": {},
   "outputs": [],
   "source": [
    "##not duplicating feb 28 twice - for 2007\n",
    "##can08 = d1[data_name_can][16:,140:165,60:85]"
   ]
  },
  {
   "cell_type": "markdown",
   "id": "12607045-5ca3-4b94-a7db-406de0ee97ce",
   "metadata": {
    "tags": []
   },
   "source": [
    "## Projection Function"
   ]
  },
  {
   "cell_type": "code",
   "execution_count": 24,
   "id": "ff87629c-0466-4a0c-9240-9cabd87d5056",
   "metadata": {},
   "outputs": [],
   "source": [
    "##scalar projection of u onto v - with extra 1/norm factor (for math reasons)\n",
    "##projectData projects the data onto each principle conponent, at each time\n",
    "##output is a set of eigenvectors\n",
    "\n",
    "def project(u, v):  \n",
    "    v_norm = np.sqrt(np.sum(v**2))    \n",
    "    return np.dot(u, v)/v_norm**2\n",
    "\n",
    "def projectData(data_mat, new_PCs, n):\n",
    "    time = data_mat.shape[1]\n",
    "    proj = np.empty((n, time))\n",
    "\n",
    "    for j in range(n):\n",
    "        for i in range(time):\n",
    "            proj[j, i] = project(data_mat[:,i], new_PCs[:,j])\n",
    "            \n",
    "    return proj"
   ]
  },
  {
   "cell_type": "markdown",
   "id": "7f945ac0-057d-40b6-9059-4d35e61f9370",
   "metadata": {},
   "source": [
    "## Overall Function"
   ]
  },
  {
   "cell_type": "code",
   "execution_count": 25,
   "id": "75b64e1f-7107-4a7f-8aad-db6a337578ae",
   "metadata": {},
   "outputs": [],
   "source": [
    "def reconstruct(downscale_mat, mean, can_PCs, can_me, hr_PCs, hr_me, n, r, method = 'LS', EB = 'false', make_positive = 'false'):\n",
    "\n",
    "    coefs = getCoefs(can_me, n + 1, hr_me, r + 1, type = method)\n",
    "    proj = np.concatenate((mean.reshape(1, -1), projectData(downscale_mat - mean, can_PCs, n)), axis = 0)\n",
    "    pred_eigs = np.matmul(coefs[0], proj) + coefs[1].reshape(-1, 1)  ##multiple linear regression output\n",
    "    if (EB == 'true'):\n",
    "        energyCoefs = getEnergyCoefs( fit_modes(can_me, n + 1, hr_me, r + 1, type = method)[0], hr_me)\n",
    "        energyCoefs = energyCoefs.reshape(-1, 1)\n",
    "        pred_eigs = pred_eigs*energyCoefs ##energy balancing\n",
    "    if (EB == 'function'):\n",
    "        energyCoefs = getEnergyCoefs( fit_modes(can_me, n + 1, hr_me, r + 1, type = method)[0] , hr_me)\n",
    "        def f(x):\n",
    "            return np.exp(-x/50)\n",
    "        for x in range(r + 1):\n",
    "            energyCoefs = (energyCoefs - 1)*f(x) + 1\n",
    "        energyCoefs = energyCoefs.reshape(-1, 1)\n",
    "        pred_eigs = pred_eigs*energyCoefs ##energy balancing\n",
    "    \n",
    "    recon = np.matmul(hr_PCs[:,0:r], pred_eigs[1:r+1]) + pred_eigs[0]\n",
    "    data_rec = reverse(recon, (-1, 266, 256))\n",
    "    \n",
    "    if not isinstance(EB, str): \n",
    "        data_rec *= EB\n",
    "    if make_positive == 'true':\n",
    "        data_rec[data_rec < 0] = 0     \n",
    "        \n",
    "    return data_rec"
   ]
  },
  {
   "cell_type": "markdown",
   "id": "b38348c1-3f69-4d9c-8daf-b73aafb5be26",
   "metadata": {
    "tags": []
   },
   "source": [
    "## Reconstructing Data"
   ]
  },
  {
   "cell_type": "code",
   "execution_count": 26,
   "id": "4b1b3982-67f3-4a02-837a-70f34ea3bd9d",
   "metadata": {},
   "outputs": [],
   "source": [
    "HB = hr07[:,142,139]\n",
    "SS = hr07[:,174,107]\n",
    "SH = hr07[:,129,149]"
   ]
  },
  {
   "cell_type": "code",
   "execution_count": 27,
   "id": "4d5690d2-4441-41d0-ba70-5f86d6531a46",
   "metadata": {},
   "outputs": [],
   "source": [
    "data_rec = reconstruct(can07_mat, can07_mean, can07_PCs, can07_me, hr07_PCs, hr07_me, 85, 20, method = 'LS')"
   ]
  },
  {
   "cell_type": "code",
   "execution_count": 29,
   "id": "dad33283-6a45-4d8a-9e43-9fda912c9252",
   "metadata": {},
   "outputs": [],
   "source": [
    "##for precip and humidity, replace negative values with 0\n",
    "if data_name_hr == 'precip' or data_name_hr == 'qair' or data_name_hr == 'solar' or data_name_hr == 'therm_rad':\n",
    "    data_rec[data_rec < 0] = 0\n",
    "if data_name_hr == 'solar':\n",
    "    night_temp = np.mean(data_rec[2::8], axis = 0)\n",
    "    data_rec[data_rec < night_temp + 0.1] = 0 \n",
    "    \n",
    "HB_rec = data_rec[:,142,139]\n",
    "SS_rec = data_rec[:,174,107]\n",
    "SH_rec = data_rec[:,129,149]"
   ]
  },
  {
   "cell_type": "markdown",
   "id": "69fde8f0-04c4-4508-94dc-0ed770874c82",
   "metadata": {},
   "source": [
    "## Finding Optimal Number of Modes"
   ]
  },
  {
   "cell_type": "code",
   "execution_count": 29,
   "id": "39234a72-f938-438e-8f58-299744740901",
   "metadata": {},
   "outputs": [],
   "source": [
    "##choose how many variables to use in reconstruction\n",
    "## organized [n, r]\n",
    "##num_modes = {'tair': [55, 80], 'precip': [12, 50], 'atmpres': [35, 75], 'qair': [85, 20],'solar':  [85, 20],'therm_rad': [50, 20], 'u_wind': [70, 50], 'v_wind': [70, 50]}"
   ]
  },
  {
   "cell_type": "code",
   "execution_count": null,
   "id": "719f7510-e675-48d4-bce4-f009e9603ad4",
   "metadata": {},
   "outputs": [],
   "source": [
    "print(name)\n",
    "runs = []\n",
    "\n",
    "for n in [65, 70, 75, 80]:\n",
    "    for r in [40, 45, 50, 55, 60]:\n",
    "        data_rec = reconstruct(can08_mat, mean_2008, can07_PCs, can07_me, hr07_PCs, hr07_me, n, r, method = 'LS', make_positive = 'true')\n",
    "        HB_rec = data_rec[:,142,139]\n",
    "        SS_rec = data_rec[:,174,107]\n",
    "        SH_rec = data_rec[:,129,149]\n",
    "        avg_rmse = np.sqrt( mean_squared_error(HB, HB_rec)) + np.sqrt( mean_squared_error(SS, SS_rec)) + np.sqrt( mean_squared_error(SH, SH_rec))\n",
    "        avg_rmse /= 3\n",
    "        runs.append([n, r, avg_rmse])\n",
    "        \n",
    "arr = np.array(runs)\n",
    "arr_min = np.argmin( arr[:, 2] )\n",
    "print(\"n, r, rmse\")\n",
    "print(runs)\n",
    "print(\"minimum:\", arr[arr_min])"
   ]
  },
  {
   "cell_type": "markdown",
   "id": "bc754559-a467-4a65-8943-5eaaa94eff46",
   "metadata": {},
   "source": [
    "## Import previous runs from here"
   ]
  },
  {
   "cell_type": "code",
   "execution_count": null,
   "id": "16905873-2142-4021-903e-fe38199d898a",
   "metadata": {},
   "outputs": [],
   "source": [
    "glob.glob('/ocean/arandhawa/MOAD/analysis-armaan/notebooks/recon08_*.csv')"
   ]
  },
  {
   "cell_type": "code",
   "execution_count": null,
   "id": "8680e546-6d69-4c85-8b54-4bb5ae31477d",
   "metadata": {},
   "outputs": [],
   "source": [
    "variables = [['tair', 'tas', 'Near-Surface Air Temperature'], \n",
    "             ['precip', 'pr', 'Precipitation'], \n",
    "             ['atmpres', 'psl', 'Sea Level Pressure'], \n",
    "             ['qair', 'huss', 'Near Surface Specific Humidity'], \n",
    "             ['solar', 'rsds', 'Shortwave radiation'], \n",
    "             ['therm_rad', 'rlds', 'Longwave radiation'],\n",
    "             ['u_wind', 'uas', 'u-winds'], \n",
    "             ['v_wind', 'vas', 'vas']]"
   ]
  },
  {
   "cell_type": "code",
   "execution_count": null,
   "id": "13d7d2f7-580b-4c57-86c2-cc9dbd280a7d",
   "metadata": {},
   "outputs": [],
   "source": [
    "##import results of previous runs\n",
    "var = variables[4]\n",
    "df = pd.read_csv('/ocean/arandhawa/MOAD/analysis-armaan/notebooks/recon08_' + var[0] + '.csv')\n",
    "name = var[2]\n",
    "\n",
    "HB = np.array(df['HB_hr'])\n",
    "SS = np.array(df['SS_hr'])\n",
    "SH = np.array(df['SH_hr'])\n",
    "HB_rec = np.array(df['HB_recon'])\n",
    "SS_rec = np.array(df['SS_recon'])\n",
    "SH_rec = np.array(df['SH_recon'])"
   ]
  },
  {
   "cell_type": "code",
   "execution_count": null,
   "id": "b5cbb541-e764-4fc6-a2c2-dd3778713749",
   "metadata": {},
   "outputs": [],
   "source": [
    "data_rec.shape"
   ]
  },
  {
   "cell_type": "code",
   "execution_count": null,
   "id": "db0ed952-9118-4044-a9ba-24355f2d5092",
   "metadata": {},
   "outputs": [],
   "source": [
    "night_temp = np.mean(data_rec[2::8], axis = 0)\n",
    "night_temp.shape"
   ]
  },
  {
   "cell_type": "markdown",
   "id": "b63e2047-e50f-44ef-81bd-23632b829d4a",
   "metadata": {},
   "source": [
    "## Analysis"
   ]
  },
  {
   "cell_type": "code",
   "execution_count": 30,
   "id": "09154774-5049-4eda-99ce-0f33a1217f8a",
   "metadata": {
    "tags": []
   },
   "outputs": [
    {
     "name": "stdout",
     "output_type": "stream",
     "text": [
      "HB RMSE: 86.08580667714259 SS RMSE: 85.7643799270937 SH RMSE: 85.55155253912115\n",
      "Average RMSE: 85.80057971445247\n"
     ]
    },
    {
     "data": {
      "image/png": "[encoded data removed]",
      "text/plain": [
       "<Figure size 1080x288 with 3 Axes>"
      ]
     },
     "metadata": {
      "needs_background": "light"
     },
     "output_type": "display_data"
    }
   ],
   "source": [
    "fig, ax = plt.subplots(1, 3, figsize=(15, 4))\n",
    "alpha_val = 0.7\n",
    "\n",
    "ax[0].plot(HB[:150], label = \"HRDPS\", alpha = alpha_val)\n",
    "ax[0].plot(HB_rec[:150], label = \"Reconstructed\", alpha = alpha_val)\n",
    "ax[0].set_title(\"Halibut Bank, \" + name)\n",
    "ax[0].set_xlabel(\"Time (hours)\")\n",
    "ax[0].set_ylabel(name)\n",
    "ax[0].legend()\n",
    "\n",
    "ax[1].plot(SS[:150], label = \"HRDPS\", alpha = alpha_val)\n",
    "ax[1].plot(SS_rec[:150], label = \"Reconstructed\", alpha = alpha_val)\n",
    "ax[1].set_title(\"Sentry Shoal, \" + name)\n",
    "ax[1].set_xlabel(\"Time (hours)\")\n",
    "ax[1].set_ylabel(name)\n",
    "ax[1].legend()\n",
    "\n",
    "ax[2].plot(SH[:150], label = \"HRDPS\", alpha = alpha_val)\n",
    "ax[2].plot(SH_rec[:150], label = \"Reconstructed\", alpha = alpha_val)\n",
    "ax[2].set_title(\"Sand Heads, \" + name)\n",
    "ax[2].set_xlabel(\"Time (hours)\")\n",
    "ax[2].set_ylabel(name)\n",
    "ax[2].legend()\n",
    "print(\"HB RMSE:\", np.sqrt( mean_squared_error(HB, HB_rec)), \n",
    "                            \"SS RMSE:\", np.sqrt( mean_squared_error(SS, SS_rec)), \n",
    "                                                  \"SH RMSE:\", np.sqrt( mean_squared_error(SH, SH_rec)))\n",
    "\n",
    "avg_rmse = np.sqrt( mean_squared_error(HB, HB_rec)) + np.sqrt( mean_squared_error(SS, SS_rec)) + np.sqrt( mean_squared_error(SH, SH_rec))\n",
    "avg_rmse = avg_rmse/3\n",
    "print(\"Average RMSE:\", avg_rmse)\n",
    "plt.tight_layout()"
   ]
  },
  {
   "cell_type": "code",
   "execution_count": 34,
   "id": "8ff58e00-0c48-4d64-be30-ac736d43b436",
   "metadata": {},
   "outputs": [
    {
     "name": "stdout",
     "output_type": "stream",
     "text": [
      "HB: 159.0683997030429 HB_recon: 157.43155460937044 ratio 0.9897098034761888\n",
      "SH: 161.6423594667743 SH_recon: 159.6455060303448 ratio 0.9876464718591293\n",
      "SS: 152.541085649292 SS_recon: 150.3448626364857 ratio 0.9856024165328438\n"
     ]
    }
   ],
   "source": [
    "print(\"HB:\", np.mean(HB), \"HB_recon:\", np.mean(HB_rec), \"ratio\", np.mean(HB_rec)/np.mean(HB))\n",
    "print(\"SH:\", np.mean(SH), \"SH_recon:\", np.mean(SH_rec), \"ratio\", np.mean(SH_rec)/np.mean(SH))\n",
    "print(\"SS:\", np.mean(SS), \"SS_recon:\", np.mean(SS_rec), \"ratio\", np.mean(SS_rec)/np.mean(SS))\n"
   ]
  },
  {
   "cell_type": "code",
   "execution_count": 35,
   "id": "0840a93c-50fa-44f5-9245-aacec8f44069",
   "metadata": {},
   "outputs": [
    {
     "name": "stdout",
     "output_type": "stream",
     "text": [
      "HB: 159.0683997030429 HB_recon: 157.43155460937044 ratio 1.0972889794055656\n",
      "SH: 161.6423594667743 SH_recon: 159.6455060303448 ratio 1.1155732139401828\n",
      "SS: 152.541085649292 SS_recon: 150.3448626364857 ratio 1.0664415147930864\n"
     ]
    }
   ],
   "source": [
    "print(\"HB:\", np.mean(HB), \"HB_recon:\", np.mean(HB_rec), \"ratio\", np.mean(HB_rec[:150])/np.mean(HB[:150]))\n",
    "print(\"SH:\", np.mean(SH), \"SH_recon:\", np.mean(SH_rec), \"ratio\", np.mean(SH_rec[:150])/np.mean(SH[:150]))\n",
    "print(\"SS:\", np.mean(SS), \"SS_recon:\", np.mean(SS_rec), \"ratio\", np.mean(SS_rec[:150])/np.mean(SS[:150]))"
   ]
  },
  {
   "cell_type": "code",
   "execution_count": 32,
   "id": "27394e96-6684-4559-b18d-13f53e411be0",
   "metadata": {},
   "outputs": [
    {
     "data": {
      "text/plain": [
       "[<matplotlib.lines.Line2D at 0x7fc5621b11e0>]"
      ]
     },
     "execution_count": 32,
     "metadata": {},
     "output_type": "execute_result"
    },
    {
     "data": {
      "image/png": "[encoded data removed]",
      "text/plain": [
       "<Figure size 432x288 with 1 Axes>"
      ]
     },
     "metadata": {
      "needs_background": "light"
     },
     "output_type": "display_data"
    }
   ],
   "source": [
    "def moving_average(x, w):\n",
    "    return np.convolve(x, np.ones(w), 'valid') / w\n",
    "\n",
    "plt.plot(moving_average(HB,40))\n",
    "plt.plot(moving_average(HB_rec,40))"
   ]
  },
  {
   "cell_type": "code",
   "execution_count": 33,
   "id": "78d97e7c-7a16-45e9-9473-27276fc53d4d",
   "metadata": {},
   "outputs": [
    {
     "data": {
      "text/plain": [
       "[<matplotlib.lines.Line2D at 0x7fc562228df0>]"
      ]
     },
     "execution_count": 33,
     "metadata": {},
     "output_type": "execute_result"
    },
    {
     "data": {
      "image/png": "[encoded data removed]",
      "text/plain": [
       "<Figure size 432x288 with 1 Axes>"
      ]
     },
     "metadata": {
      "needs_background": "light"
     },
     "output_type": "display_data"
    }
   ],
   "source": [
    "plt.plot(np.cumsum(SS))\n",
    "plt.plot(np.cumsum(SS_rec))"
   ]
  },
  {
   "cell_type": "code",
   "execution_count": null,
   "id": "a0ccef64-aff8-4fa4-9401-10f1d9fde010",
   "metadata": {
    "tags": []
   },
   "outputs": [],
   "source": [
    "min = np.min([np.min(HB), np.min(SH), np.min(SS)])\n",
    "max = np.max([np.max(HB), np.max(SH), np.max(SS)])\n",
    "diff = max - min\n",
    "nums = np.arange(min, max, (max - min)/16)\n",
    "\n",
    "fig, ax = plt.subplots(1, 3, figsize=(10, 5))\n",
    "\n",
    "ax[0].set_title(\"Halibut Bank\")\n",
    "ax[0].hist(HB, bins = nums, label = \"HRDPS\", alpha = 0.7)\n",
    "ax[0].hist(HB_rec, bins = nums, label = \"Reconstructed\", alpha = 0.7)\n",
    "ax[0].set_xlabel(name)\n",
    "ax[0].set_ylabel(\"Number of data points\")\n",
    "ax[0].legend()\n",
    "\n",
    "ax[1].set_title(\"Sentry Shoal\")\n",
    "ax[1].hist(SS, bins = nums, label = \"HRDPS\", alpha = 0.7)\n",
    "ax[1].hist(SS_rec, bins = nums, label = \"Reconstructed\", alpha = 0.7)\n",
    "ax[1].set_xlabel(name)\n",
    "ax[1].set_ylabel(\"Number of data points\")\n",
    "ax[1].legend()\n",
    "\n",
    "ax[2].set_title(\"Sand Heads\")\n",
    "ax[2].hist(SH, bins = nums,  label = \"HRDPS\", alpha = 0.7)\n",
    "ax[2].hist(SH_rec, bins = nums, label = \"Reconstructed\", alpha = 0.7)\n",
    "ax[2].set_xlabel(name)\n",
    "ax[2].set_ylabel(\"Number of data points\")\n",
    "ax[2].legend()\n",
    "\n",
    "plt.tight_layout()"
   ]
  },
  {
   "cell_type": "code",
   "execution_count": null,
   "id": "ebca834b-dace-4202-bfaa-19864ee2fe80",
   "metadata": {},
   "outputs": [],
   "source": [
    "a1 = np.histogram(HB, bins = nums)\n",
    "b1 = np.histogram(HB_rec, bins = nums)\n",
    "\n",
    "a2 = np.histogram(SS, bins = nums)\n",
    "b2 = np.histogram(SS_rec, bins = nums)\n",
    "\n",
    "a3 = np.histogram(SH, bins = nums)\n",
    "b3 = np.histogram(SH_rec, bins = nums)\n",
    "\n",
    "# calc middle of bin and width of bin\n",
    "axes = [(a1[1][x]+a1[1][x+1])/2 for x in range(len(a1[1])-1)] \n",
    "w = a1[1][1] - a1[1][0]\n",
    "##plot differences\n",
    "fig, ax = plt.subplots(1, 3, figsize = (10, 3))\n",
    "\n",
    "ax[0].bar(axes, b1[0] - a1[0], width=w, label=\"Reconstruct - HRDPS 2008\")\n",
    "ax[0].set_title(\"Halibut Bank\")\n",
    "ax[1].bar(axes, b2[0] - a2[0], width=w, label=\"Reconstruct - HRDPS 2008\")\n",
    "ax[1].set_title(\"Sentry Shoal\")\n",
    "ax[2].bar(axes, b3[0] - a3[0], width=w, label=\"Reconstruct - HRDPS 2008\")\n",
    "ax[2].set_title(\"Sand Heads\")\n",
    "\n",
    "for i in range(3):\n",
    "    ax[i].set_xlabel(name)\n",
    "    ax[i].set_ylabel(\"Data Points\")\n",
    "plt.tight_layout()"
   ]
  },
  {
   "cell_type": "code",
   "execution_count": null,
   "id": "f0fcbf7e-f299-4014-960e-e5e202d774be",
   "metadata": {},
   "outputs": [],
   "source": [
    "metrics = np.zeros((3, 3))\n",
    "\n",
    "def helper(x, y, ax, i):\n",
    "    \n",
    "    reg = LinearRegression().fit(x.reshape(-1, 1), y)\n",
    "    a = reg.coef_[0]\n",
    "    b = reg.intercept_\n",
    "    y_pred = a*x + b\n",
    "    \n",
    "    bias = np.mean( y - x )\n",
    "    r_squared = reg.score(x.reshape(-1, 1), y)\n",
    "    rmse = np.sqrt( mean_squared_error(y, y_pred) )\n",
    "    \n",
    "    global metrics\n",
    "    metrics[i, 0] = r_squared\n",
    "    metrics[i, 1] = bias\n",
    "    metrics[i, 2] = rmse\n",
    "    \n",
    "    im = ax[i].hist2d(x, y, bins = 10, range = [[min, max],[min, max]], cmap=plt.cm.Reds)\n",
    "    ax[i].plot(x, a*x+b, color = 'black')\n",
    "    ax[i].plot(x, x, color = 'blue')\n",
    "    ax[i].annotate(\"r-squared = {:.3f}\".format(r_squared), (min + diff/16, max - diff*3/34))\n",
    "    ax[i].annotate(\"bias = {:.5f}\".format(bias), (min + diff/16, max - diff*5/34))\n",
    "    ax[i].annotate(\"RMS error = {:.5f}\".format(rmse), (min + diff/16, max - diff*7/34))\n",
    "    ax[i].annotate(\"y = {:.3f}x + {:.3f}\".format(a, b), (min + diff/16, max - diff*9/34))\n",
    "    ax[i].set_ylabel(\"HRDPS data\")\n",
    "    ax[i].set_xlabel(\"reconstructed data\")\n",
    "    ##ax[i].set_ylim(-14, 20)\n",
    "    ##ax[i].set_xlim(-14, 20)\n",
    "    ## plt.colorbar(im,ax=ax[i,j]) \n",
    "    ##https://stackoverflow.com/questions/23876588/matplotlib-colorbar-in-each-subplot\n",
    "\n",
    "fig, ax = plt.subplots(1, 3, figsize = (14, 4))\n",
    "##Habibut bank\n",
    "y = HB\n",
    "x = HB_rec\n",
    "ax[0].set_title(\"Halibut Bank, \" + name)\n",
    "helper(x, y, ax, 0)\n",
    "\n",
    "##Sentry Shoal\n",
    "y = SS\n",
    "x = SS_rec\n",
    "ax[1].set_title(\"Sentry Shoa, \" + name)\n",
    "helper(x, y, ax, 1)\n",
    "\n",
    "##Sand Heads\n",
    "y = SH\n",
    "x = SH_rec\n",
    "ax[2].set_title(\"Sand Heads, \" + name)\n",
    "helper(x, y, ax, 2)\n",
    "\n",
    "plt.tight_layout()"
   ]
  },
  {
   "cell_type": "markdown",
   "id": "57fc87c2-cc13-4ce4-93dd-32e73b4e6687",
   "metadata": {},
   "source": [
    "## Calculate Metrics without Graph"
   ]
  },
  {
   "cell_type": "code",
   "execution_count": null,
   "id": "67666471-3735-43fb-9d2f-f198febd9cbc",
   "metadata": {},
   "outputs": [],
   "source": [
    "##metrics used to rate fit\n",
    "\n",
    "ex = np.zeros(b1[0].shape)\n",
    "rmse_hist = np.sqrt(mean_squared_error(b1[0] - a1[0], ex)) + np.sqrt( mean_squared_error(b2[0] - a2[0], ex)) + np.sqrt( mean_squared_error(b3[0] - a3[0], ex) )\n",
    "rmse_hist /= 3\n",
    "print(\"histogram rmse:\", rmse_hist)\n",
    "print(\"   R^2,         bias,       RMSE\")\n",
    "metrics_avg = np.mean(metrics, axis = 0)\n",
    "print(metrics_avg)\n",
    "print(\"Average RMSE:\", round(avg_rmse, 8))"
   ]
  },
  {
   "cell_type": "code",
   "execution_count": null,
   "id": "00ad2f36-bbb5-4007-abae-c4d409939bf3",
   "metadata": {},
   "outputs": [],
   "source": [
    "##separate code to calculate metrics directly\n",
    "\n",
    "min = np.min([np.min(HB), np.min(SH), np.min(SS)])\n",
    "max = np.max([np.max(HB), np.max(SH), np.max(SS)])\n",
    "nums = np.arange(min, max, (max - min)/16)\n",
    "a1 = np.histogram(HB, bins = nums)\n",
    "b1 = np.histogram(HB_rec, bins = nums)\n",
    "a2 = np.histogram(SS, bins = nums)\n",
    "b2 = np.histogram(SS_rec, bins = nums)\n",
    "a3 = np.histogram(SH, bins = nums)\n",
    "b3 = np.histogram(SH_rec, bins = nums)\n",
    "ex = np.zeros(b1[0].shape)\n",
    "rmse_hist = np.sqrt(mean_squared_error(b1[0] - a1[0], ex)) + np.sqrt( mean_squared_error(b2[0] - a2[0], ex)) + np.sqrt( mean_squared_error(b3[0] - a3[0], ex) )\n",
    "rmse_hist /= 3\n",
    "\n",
    "def helper(x, y, ax, i):\n",
    "    \n",
    "    reg = LinearRegression().fit(x.reshape(-1, 1), y)\n",
    "    a = reg.coef_[0]\n",
    "    b = reg.intercept_\n",
    "    y_pred = a*x + b\n",
    "    \n",
    "    bias = np.mean( y - x )\n",
    "    r_squared = reg.score(x.reshape(-1, 1), y)\n",
    "    rmse = np.sqrt( mean_squared_error(y, y_pred) )\n",
    "    \n",
    "    global metrics\n",
    "    metrics[i, 0] = r_squared\n",
    "    metrics[i, 1] = bias\n",
    "    metrics[i, 2] = rmse\n",
    "\n",
    "hist2d_metrics = np.zeros((3, 3))\n",
    "helper(HB, HB_rec, ax, 0)\n",
    "helper(SS, SS_rec, ax, 1)\n",
    "helper(SH, SH_rec, ax, 2)\n",
    "\n",
    "print(\"   R^2,         bias,       RMSE\")\n",
    "metrics_avg = np.mean(hist2d_metrics, axis = 0)\n",
    "print(metrics_avg)"
   ]
  },
  {
   "cell_type": "markdown",
   "id": "26c957af-f162-4b80-a216-aff1c4816968",
   "metadata": {},
   "source": [
    "## Exports"
   ]
  },
  {
   "cell_type": "code",
   "execution_count": null,
   "id": "b7901dc6-f2d0-4545-b521-8d83cb85072b",
   "metadata": {},
   "outputs": [],
   "source": [
    "dict = {\n",
    "    \"HB_hr\" : HB,\n",
    "    \"SS_hr\" : SS,\n",
    "    \"SH_hr\" : SH,\n",
    "    \"HB_recon\" : HB_rec,\n",
    "    \"SS_recon\" : SS_rec,\n",
    "    \"SH_recon\" : SH_rec,\n",
    "}\n",
    "\n",
    "export = pd.DataFrame(dict)"
   ]
  },
  {
   "cell_type": "code",
   "execution_count": null,
   "id": "f60c408a-57c7-4d5c-b774-8886b5289bdd",
   "metadata": {},
   "outputs": [],
   "source": [
    "filepath = '/ocean/arandhawa/MOAD/analysis-armaan/notebooks/recon08_' + data_name_hr + '.csv'\n",
    "print(filepath)"
   ]
  },
  {
   "cell_type": "code",
   "execution_count": null,
   "id": "fe947870-2aaa-454e-85dc-dbc17ee7a3cc",
   "metadata": {},
   "outputs": [],
   "source": [
    "## export.to_csv(filepath, index = False, header=True)"
   ]
  },
  {
   "cell_type": "code",
   "execution_count": null,
   "id": "89a5c39a-2309-4e25-b52f-a343d4f29fb5",
   "metadata": {},
   "outputs": [],
   "source": []
  }
 ],
 "metadata": {
  "kernelspec": {
   "display_name": "Python 3 (ipykernel)",
   "language": "python",
   "name": "python3"
  },
  "language_info": {
   "codemirror_mode": {
    "name": "ipython",
    "version": 3
   },
   "file_extension": ".py",
   "mimetype": "text/x-python",
   "name": "python",
   "nbconvert_exporter": "python",
   "pygments_lexer": "ipython3",
   "version": "3.10.2"
  }
 },
 "nbformat": 4,
 "nbformat_minor": 5
}
