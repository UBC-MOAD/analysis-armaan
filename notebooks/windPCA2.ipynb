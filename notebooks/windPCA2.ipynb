{
 "cells": [
  {
   "cell_type": "code",
   "execution_count": 1,
   "id": "d146974d-fa9e-4b5f-9809-1d97a5414dc5",
   "metadata": {},
   "outputs": [],
   "source": [
    "import matplotlib.pyplot as plt\n",
    "import pandas as pd\n",
    "import numpy as np\n",
    "import xarray as xr\n",
    "import scipy as sc\n",
    "import os\n",
    "from sklearn.decomposition import PCA\n",
    "import glob\n",
    "import pathlib as pl\n",
    "import salishsea_tools.geo_tools as gt"
   ]
  },
  {
   "cell_type": "code",
   "execution_count": 2,
   "id": "ab1c64ed-e742-4092-baa8-121e93c4ed3b",
   "metadata": {},
   "outputs": [],
   "source": [
    "p1 = '/Users/arand/downloads/uas_NAM-22_ECMWF-ERAINT_evaluation_r1i1p1_CCCma-CanRCM4_r2_3hr_2007010103-2008010100.nc'\n",
    "d1 = xr.open_dataset(p1)"
   ]
  },
  {
   "cell_type": "code",
   "execution_count": 3,
   "id": "0ff4181d-389b-4605-85e8-52fe6e0e2690",
   "metadata": {},
   "outputs": [
    {
     "name": "stdout",
     "output_type": "stream",
     "text": [
      "<xarray.Dataset>\n",
      "Dimensions:       (time: 2920, bnds: 2, rlon: 310, rlat: 260)\n",
      "Coordinates:\n",
      "  * time          (time) object 2007-01-01 03:00:00 ... 2008-01-01 00:00:00\n",
      "  * rlon          (rlon) float64 -33.99 -33.77 -33.55 ... 33.55 33.77 33.99\n",
      "  * rlat          (rlat) float64 -28.71 -28.49 -28.27 ... 27.83 28.05 28.27\n",
      "    lon           (rlat, rlon) float64 ...\n",
      "    lat           (rlat, rlon) float64 ...\n",
      "Dimensions without coordinates: bnds\n",
      "Data variables:\n",
      "    time_bnds     (time, bnds) object ...\n",
      "    rotated_pole  |S1 ...\n",
      "    uas           (time, rlat, rlon) float32 ...\n",
      "Attributes: (12/26)\n",
      "    title:                          CanRCM4 model output prepared for CORDEX ...\n",
      "    institution:                    CCCma (Canadian Centre for Climate Modell...\n",
      "    institute_id:                   CCCma\n",
      "    experiment:                     Evaluation run with ERA-INTERIM reanalysi...\n",
      "    experiment_id:                  evaluation\n",
      "    driving_experiment:             ECMWF-ERAINT, evaluation, r1i1p1\n",
      "    ...                             ...\n",
      "    Conventions:                    CF-1.4\n",
      "    creation_date:                  2015-02-25-T23:20:12Z\n",
      "    contact:                        cccma_info@ec.gc.ca\n",
      "    references:                     http://www.cccma.ec.gc.ca/models\n",
      "    history:                        created: 2015-02-25 22:20:35 by rcm2nc\n",
      "    data_licence:                   1) GRANT OF LICENCE - The Government of C...\n"
     ]
    }
   ],
   "source": [
    "print(d1)"
   ]
  },
  {
   "cell_type": "code",
   "execution_count": null,
   "id": "6bd5a2bc-649c-4bd2-9181-53f299914db1",
   "metadata": {},
   "outputs": [],
   "source": []
  }
 ],
 "metadata": {
  "kernelspec": {
   "display_name": "Python 3 (ipykernel)",
   "language": "python",
   "name": "python3"
  },
  "language_info": {
   "codemirror_mode": {
    "name": "ipython",
    "version": 3
   },
   "file_extension": ".py",
   "mimetype": "text/x-python",
   "name": "python",
   "nbconvert_exporter": "python",
   "pygments_lexer": "ipython3",
   "version": "3.10.2"
  }
 },
 "nbformat": 4,
 "nbformat_minor": 5
}
